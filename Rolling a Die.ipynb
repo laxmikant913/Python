{
 "cells": [
  {
   "cell_type": "code",
   "execution_count": 1,
   "metadata": {},
   "outputs": [],
   "source": [
    "import random"
   ]
  },
  {
   "cell_type": "code",
   "execution_count": null,
   "metadata": {},
   "outputs": [
    {
     "name": "stdout",
     "output_type": "stream",
     "text": [
      "Do you want to play the game: 'y' or 'n'y\n",
      "Rolling the dice\n",
      "The values is: 3\n",
      "Do you want to play the game again: 'y' or 'n'y\n",
      "Rolling the dice\n",
      "The values is: 3\n",
      "Do you want to play the game again: 'y' or 'n'y\n",
      "Rolling the dice\n",
      "The values is: 1\n"
     ]
    }
   ],
   "source": [
    "play_game = input(\"Do you want to play the game: 'y' or 'n'\")\n",
    "while play_game == \"y\":\n",
    "    rolled_num = random.randint(1,6)\n",
    "    print(\"Rolling the dice\")\n",
    "    print(\"The values is:\", rolled_num)\n",
    "    play_game = input(\"Do you want to play the game again: 'y' or 'n'\")"
   ]
  }
 ],
 "metadata": {
  "kernelspec": {
   "display_name": "Python 3",
   "language": "python",
   "name": "python3"
  },
  "language_info": {
   "codemirror_mode": {
    "name": "ipython",
    "version": 3
   },
   "file_extension": ".py",
   "mimetype": "text/x-python",
   "name": "python",
   "nbconvert_exporter": "python",
   "pygments_lexer": "ipython3",
   "version": "3.6.7"
  }
 },
 "nbformat": 4,
 "nbformat_minor": 2
}
